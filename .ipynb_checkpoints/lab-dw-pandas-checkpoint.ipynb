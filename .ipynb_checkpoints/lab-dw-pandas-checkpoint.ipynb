{
 "cells": [
  {
   "cell_type": "markdown",
   "id": "25d7736c-ba17-4aff-b6bb-66eba20fbf4e",
   "metadata": {},
   "source": [
    "# Lab | Pandas"
   ]
  },
  {
   "cell_type": "markdown",
   "id": "d1973e9e-8be6-4039-b70e-d73ee0d94c99",
   "metadata": {},
   "source": [
    "In this lab, we will be working with the customer data from an insurance company, which can be found in the CSV file located at the following link: https://raw.githubusercontent.com/data-bootcamp-v4/data/main/file1.csv\n",
    "\n",
    "The data includes information such as customer ID, state, gender, education, income, and other variables that can be used to perform various analyses.\n",
    "\n",
    "Throughout the lab, we will be using the pandas library in Python to manipulate and analyze the data. Pandas is a powerful library that provides various data manipulation and analysis tools, including the ability to load and manipulate data from a variety of sources, including CSV files."
   ]
  },
  {
   "cell_type": "markdown",
   "id": "8045146f-f4f7-44d9-8cd9-130d6400c73a",
   "metadata": {},
   "source": [
    "### Data Description\n",
    "\n",
    "- Customer - Customer ID\n",
    "\n",
    "- ST - State where customers live\n",
    "\n",
    "- Gender - Gender of the customer\n",
    "\n",
    "- Education - Background education of customers \n",
    "\n",
    "- Customer Lifetime Value - Customer lifetime value(CLV) is the total revenue the client will derive from their entire relationship with a customer. In other words, is the predicted or calculated value of a customer over their entire duration as a policyholder with the insurance company. It is an estimation of the net profit that the insurance company expects to generate from a customer throughout their relationship with the company. Customer Lifetime Value takes into account factors such as the duration of the customer's policy, premium payments, claim history, renewal likelihood, and potential additional services or products the customer may purchase. It helps insurers assess the long-term profitability and value associated with retaining a particular customer.\n",
    "\n",
    "- Income - Customers income\n",
    "\n",
    "- Monthly Premium Auto - Amount of money the customer pays on a monthly basis as a premium for their auto insurance coverage. It represents the recurring cost that the insured person must pay to maintain their insurance policy and receive coverage for potential damages, accidents, or other covered events related to their vehicle.\n",
    "\n",
    "- Number of Open Complaints - Number of complaints the customer opened\n",
    "\n",
    "- Policy Type - There are three type of policies in car insurance (Corporate Auto, Personal Auto, and Special Auto)\n",
    "\n",
    "- Vehicle Class - Type of vehicle classes that customers have Two-Door Car, Four-Door Car SUV, Luxury SUV, Sports Car, and Luxury Car\n",
    "\n",
    "- Total Claim Amount - the sum of all claims made by the customer. It represents the total monetary value of all approved claims for incidents such as accidents, theft, vandalism, or other covered events.\n"
   ]
  },
  {
   "cell_type": "markdown",
   "id": "3a72419b-20fc-4905-817a-8c83abc59de6",
   "metadata": {},
   "source": [
    "External Resources: https://towardsdatascience.com/filtering-data-frames-in-pandas-b570b1f834b9"
   ]
  },
  {
   "cell_type": "markdown",
   "id": "8f8ece17-e919-4e23-96c0-c7c59778436a",
   "metadata": {},
   "source": [
    "## Challenge 1: Understanding the data\n",
    "\n",
    "In this challenge, you will use pandas to explore a given dataset. Your task is to gain a deep understanding of the data by analyzing its characteristics, dimensions, and statistical properties."
   ]
  },
  {
   "cell_type": "markdown",
   "id": "91437bd5-59a6-49c0-8150-ef0e6e6eb253",
   "metadata": {},
   "source": [
    "- Identify the dimensions of the dataset by determining the number of rows and columns it contains.\n",
    "- Determine the data types of each column and evaluate whether they are appropriate for the nature of the variable. You should also provide suggestions for fixing any incorrect data types.\n",
    "- Identify the number of unique values for each column and determine which columns appear to be categorical. You should also describe the unique values of each categorical column and the range of values for numerical columns, and give your insights.\n",
    "- Compute summary statistics such as mean, median, mode, standard deviation, and quartiles to understand the central tendency and distribution of the data for numerical columns. You should also provide your conclusions based on these summary statistics.\n",
    "- Compute summary statistics for categorical columns and providing your conclusions based on these statistics."
   ]
  },
  {
   "cell_type": "code",
   "execution_count": 6,
   "id": "dd4e8cd8-a6f6-486c-a5c4-1745b0c035f4",
   "metadata": {},
   "outputs": [
    {
     "data": {
      "text/html": [
       "<div>\n",
       "<style scoped>\n",
       "    .dataframe tbody tr th:only-of-type {\n",
       "        vertical-align: middle;\n",
       "    }\n",
       "\n",
       "    .dataframe tbody tr th {\n",
       "        vertical-align: top;\n",
       "    }\n",
       "\n",
       "    .dataframe thead th {\n",
       "        text-align: right;\n",
       "    }\n",
       "</style>\n",
       "<table border=\"1\" class=\"dataframe\">\n",
       "  <thead>\n",
       "    <tr style=\"text-align: right;\">\n",
       "      <th></th>\n",
       "      <th>Customer</th>\n",
       "      <th>ST</th>\n",
       "      <th>GENDER</th>\n",
       "      <th>Education</th>\n",
       "      <th>Customer Lifetime Value</th>\n",
       "      <th>Income</th>\n",
       "      <th>Monthly Premium Auto</th>\n",
       "      <th>Number of Open Complaints</th>\n",
       "      <th>Policy Type</th>\n",
       "      <th>Vehicle Class</th>\n",
       "      <th>Total Claim Amount</th>\n",
       "    </tr>\n",
       "  </thead>\n",
       "  <tbody>\n",
       "    <tr>\n",
       "      <th>0</th>\n",
       "      <td>RB50392</td>\n",
       "      <td>Washington</td>\n",
       "      <td>NaN</td>\n",
       "      <td>Master</td>\n",
       "      <td>NaN</td>\n",
       "      <td>0.0</td>\n",
       "      <td>1000.0</td>\n",
       "      <td>1/0/00</td>\n",
       "      <td>Personal Auto</td>\n",
       "      <td>Four-Door Car</td>\n",
       "      <td>2.704934</td>\n",
       "    </tr>\n",
       "    <tr>\n",
       "      <th>1</th>\n",
       "      <td>QZ44356</td>\n",
       "      <td>Arizona</td>\n",
       "      <td>F</td>\n",
       "      <td>Bachelor</td>\n",
       "      <td>697953.59%</td>\n",
       "      <td>0.0</td>\n",
       "      <td>94.0</td>\n",
       "      <td>1/0/00</td>\n",
       "      <td>Personal Auto</td>\n",
       "      <td>Four-Door Car</td>\n",
       "      <td>1131.464935</td>\n",
       "    </tr>\n",
       "    <tr>\n",
       "      <th>2</th>\n",
       "      <td>AI49188</td>\n",
       "      <td>Nevada</td>\n",
       "      <td>F</td>\n",
       "      <td>Bachelor</td>\n",
       "      <td>1288743.17%</td>\n",
       "      <td>48767.0</td>\n",
       "      <td>108.0</td>\n",
       "      <td>1/0/00</td>\n",
       "      <td>Personal Auto</td>\n",
       "      <td>Two-Door Car</td>\n",
       "      <td>566.472247</td>\n",
       "    </tr>\n",
       "    <tr>\n",
       "      <th>3</th>\n",
       "      <td>WW63253</td>\n",
       "      <td>California</td>\n",
       "      <td>M</td>\n",
       "      <td>Bachelor</td>\n",
       "      <td>764586.18%</td>\n",
       "      <td>0.0</td>\n",
       "      <td>106.0</td>\n",
       "      <td>1/0/00</td>\n",
       "      <td>Corporate Auto</td>\n",
       "      <td>SUV</td>\n",
       "      <td>529.881344</td>\n",
       "    </tr>\n",
       "    <tr>\n",
       "      <th>4</th>\n",
       "      <td>GA49547</td>\n",
       "      <td>Washington</td>\n",
       "      <td>M</td>\n",
       "      <td>High School or Below</td>\n",
       "      <td>536307.65%</td>\n",
       "      <td>36357.0</td>\n",
       "      <td>68.0</td>\n",
       "      <td>1/0/00</td>\n",
       "      <td>Personal Auto</td>\n",
       "      <td>Four-Door Car</td>\n",
       "      <td>17.269323</td>\n",
       "    </tr>\n",
       "  </tbody>\n",
       "</table>\n",
       "</div>"
      ],
      "text/plain": [
       "  Customer          ST GENDER             Education Customer Lifetime Value  \\\n",
       "0  RB50392  Washington    NaN                Master                     NaN   \n",
       "1  QZ44356     Arizona      F              Bachelor              697953.59%   \n",
       "2  AI49188      Nevada      F              Bachelor             1288743.17%   \n",
       "3  WW63253  California      M              Bachelor              764586.18%   \n",
       "4  GA49547  Washington      M  High School or Below              536307.65%   \n",
       "\n",
       "    Income  Monthly Premium Auto Number of Open Complaints     Policy Type  \\\n",
       "0      0.0                1000.0                    1/0/00   Personal Auto   \n",
       "1      0.0                  94.0                    1/0/00   Personal Auto   \n",
       "2  48767.0                 108.0                    1/0/00   Personal Auto   \n",
       "3      0.0                 106.0                    1/0/00  Corporate Auto   \n",
       "4  36357.0                  68.0                    1/0/00   Personal Auto   \n",
       "\n",
       "   Vehicle Class  Total Claim Amount  \n",
       "0  Four-Door Car            2.704934  \n",
       "1  Four-Door Car         1131.464935  \n",
       "2   Two-Door Car          566.472247  \n",
       "3            SUV          529.881344  \n",
       "4  Four-Door Car           17.269323  "
      ]
     },
     "execution_count": 6,
     "metadata": {},
     "output_type": "execute_result"
    }
   ],
   "source": [
    "# Your code here\n",
    "import numpy as np\n",
    "import pandas as pd\n",
    "\n",
    "car_insurance_df = pd.read_csv(\"https://raw.githubusercontent.com/data-bootcamp-v4/data/main/file1.csv\")\n",
    "\n",
    "car_insurance_df.head()"
   ]
  },
  {
   "cell_type": "code",
   "execution_count": 7,
   "id": "3a43946b-8489-41ac-bd63-f16cbbb16d2d",
   "metadata": {},
   "outputs": [
    {
     "name": "stdout",
     "output_type": "stream",
     "text": [
      "The number of rows in the dataset are 4008, and the number of columns are 11\n"
     ]
    }
   ],
   "source": [
    "print (f\"The number of rows in the dataset are {car_insurance_df.shape[0]}, and the number of columns are {car_insurance_df.shape[1]}\")"
   ]
  },
  {
   "cell_type": "code",
   "execution_count": 8,
   "id": "c9415e9e-3812-4018-8e27-91ecbf8d87be",
   "metadata": {},
   "outputs": [
    {
     "name": "stdout",
     "output_type": "stream",
     "text": [
      "The datatypes of the individual columns are:\n",
      "Customer                      object\n",
      "ST                            object\n",
      "GENDER                        object\n",
      "Education                     object\n",
      "Customer Lifetime Value       object\n",
      "Income                       float64\n",
      "Monthly Premium Auto         float64\n",
      "Number of Open Complaints     object\n",
      "Policy Type                   object\n",
      "Vehicle Class                 object\n",
      "Total Claim Amount           float64\n",
      "dtype: object\n"
     ]
    }
   ],
   "source": [
    "print (\"The datatypes of the individual columns are:\")\n",
    "print (car_insurance_df.dtypes)"
   ]
  },
  {
   "cell_type": "code",
   "execution_count": 9,
   "id": "a26f8b33-d289-42eb-b6bb-ad357fd3dbb9",
   "metadata": {},
   "outputs": [
    {
     "name": "stdout",
     "output_type": "stream",
     "text": [
      "<class 'float'>\n",
      "<class 'str'>\n",
      "<class 'str'>\n",
      "<class 'str'>\n"
     ]
    }
   ],
   "source": [
    "print (type(car_insurance_df[\"Customer Lifetime Value\"].iloc[0]))\n",
    "print (type(car_insurance_df[\"Customer Lifetime Value\"].iloc[1]))\n",
    "print (type(car_insurance_df[\"Customer Lifetime Value\"].iloc[2]))\n",
    "print (type(car_insurance_df[\"Customer Lifetime Value\"].iloc[3]))"
   ]
  },
  {
   "cell_type": "markdown",
   "id": "06cc4d85-e152-4bd9-8649-9ae35c2f5be2",
   "metadata": {},
   "source": [
    "Data Type Analysis:\n",
    "- Customer Lifetime Value should be a float, not an object since it is a numerical, continuous value, not a categorical one. It is probably listed as an object because it contains mixed entries, the first NaN IS a float but the following numbers are strings. This should be changed to floats by data wrangling methods for proper analysis.\n",
    "- The number of open complaints represent a categorical value, even though they are represented by a string of numbers that are theoretically open ended, realistically there will only ever be a finite number of open complaints per given customer. \n",
    "- the rest of the data-types seem appropriate, an object (str or mixed) when the data is categorical and float when it is numerical and continuous."
   ]
  },
  {
   "cell_type": "code",
   "execution_count": 15,
   "id": "23f8d009-68f5-4794-a282-4bdd6f65f6fe",
   "metadata": {},
   "outputs": [
    {
     "data": {
      "text/plain": [
       "1071"
      ]
     },
     "execution_count": 15,
     "metadata": {},
     "output_type": "execute_result"
    }
   ],
   "source": [
    "car_insurance_df[\"Customer\"].nunique()"
   ]
  },
  {
   "cell_type": "code",
   "execution_count": 17,
   "id": "97d2a0ac-5319-44d2-a853-77b93f3018af",
   "metadata": {},
   "outputs": [
    {
     "data": {
      "text/plain": [
       "Customer                     1071\n",
       "ST                              8\n",
       "GENDER                          5\n",
       "Education                       6\n",
       "Customer Lifetime Value      1027\n",
       "Income                        774\n",
       "Monthly Premium Auto          132\n",
       "Number of Open Complaints       6\n",
       "Policy Type                     3\n",
       "Vehicle Class                   6\n",
       "Total Claim Amount            761\n",
       "dtype: int64"
      ]
     },
     "execution_count": 17,
     "metadata": {},
     "output_type": "execute_result"
    }
   ],
   "source": [
    "car_insurance_df.iloc[:,0:11].nunique()"
   ]
  },
  {
   "cell_type": "code",
   "execution_count": 19,
   "id": "bcc58ede-7c26-4fb9-a3f4-559f91b41f66",
   "metadata": {},
   "outputs": [
    {
     "name": "stdout",
     "output_type": "stream",
     "text": [
      "The Type of data (categorical or numerical) for the columns is:\n",
      "categorical:  ['Customer', 'ST', 'GENDER', 'EDUCATION', 'Number of open complaints', 'Policy Type', 'Vehicle Class']\n",
      "numerical:  ['Customer Lifetime Value', 'Income', 'Monthly Premium Auto', 'Total Claim Amount']\n"
     ]
    }
   ],
   "source": [
    "col_dict = {\"Customer\" : \"categorical\", \"ST\" : \"categorical\", \"GENDER\" : \"categorical\", \"EDUCATION\" : \"categorical\", \"Customer Lifetime Value\" : \"numerical\", \"Income\" : \"numerical\", \"Monthly Premium Auto\" : \"numerical\", \"Number of open complaints\" : \"categorical\", \"Policy Type\" : \"categorical\", \"Vehicle Class\" : \"categorical\", \"Total Claim Amount\" : \"numerical\"}  \n",
    "print (\"The Type of data (categorical or numerical) for the columns is:\")\n",
    "cat_list = [key for key in col_dict if col_dict[key] == \"categorical\"]\n",
    "num_list = [key for key in col_dict if col_dict[key] == \"numerical\"]\n",
    "print (\"categorical: \", cat_list)\n",
    "print (\"numerical: \", num_list)"
   ]
  },
  {
   "cell_type": "code",
   "execution_count": 21,
   "id": "a84d1f80-3d38-4dc3-9c43-7c1f4ef7e039",
   "metadata": {},
   "outputs": [
    {
     "data": {
      "text/plain": [
       "array(['RB50392', 'QZ44356', 'AI49188', ..., 'CW49887', 'MY31220', nan],\n",
       "      dtype=object)"
      ]
     },
     "execution_count": 21,
     "metadata": {},
     "output_type": "execute_result"
    }
   ],
   "source": [
    "car_insurance_df[\"Customer\"].unique()"
   ]
  },
  {
   "cell_type": "code",
   "execution_count": 23,
   "id": "a80e5057-f8d8-4357-a6ae-0fdc7579236c",
   "metadata": {},
   "outputs": [
    {
     "data": {
      "text/plain": [
       "Customer\n",
       "RB50392    1\n",
       "HJ15383    1\n",
       "AO74776    1\n",
       "HQ82233    1\n",
       "OL72737    1\n",
       "          ..\n",
       "RO26085    1\n",
       "ES57969    1\n",
       "JK55587    1\n",
       "RN97635    1\n",
       "MY31220    1\n",
       "Name: count, Length: 1071, dtype: int64"
      ]
     },
     "execution_count": 23,
     "metadata": {},
     "output_type": "execute_result"
    }
   ],
   "source": [
    "car_insurance_df[\"Customer\"].value_counts()"
   ]
  },
  {
   "cell_type": "markdown",
   "id": "3ca59154-e860-423f-bd2c-a29cd9e66438",
   "metadata": {},
   "source": [
    "CUSTOMER-COLUMN:\n",
    "The unique values of the Customer column appear to be a collection of codes, a categorical value for each policy holder, and they hold as such very little informational value."
   ]
  },
  {
   "cell_type": "code",
   "execution_count": 26,
   "id": "790e3a8c-b413-4ba7-a450-002811890be2",
   "metadata": {},
   "outputs": [
    {
     "name": "stdout",
     "output_type": "stream",
     "text": [
      "['Washington' 'Arizona' 'Nevada' 'California' 'Oregon' 'Cali' 'AZ' 'WA'\n",
      " nan]\n",
      "ST\n",
      "Oregon        320\n",
      "California    211\n",
      "Arizona       186\n",
      "Cali          120\n",
      "Nevada         98\n",
      "Washington     81\n",
      "WA             30\n",
      "AZ             25\n",
      "Name: count, dtype: int64\n"
     ]
    }
   ],
   "source": [
    "print(car_insurance_df[\"ST\"].unique())\n",
    "print (car_insurance_df[\"ST\"].value_counts())"
   ]
  },
  {
   "cell_type": "code",
   "execution_count": 28,
   "id": "1c363146-2025-436c-ab17-263a32413048",
   "metadata": {},
   "outputs": [
    {
     "data": {
      "text/plain": [
       "count       1071\n",
       "unique         8\n",
       "top       Oregon\n",
       "freq         320\n",
       "Name: ST, dtype: object"
      ]
     },
     "execution_count": 28,
     "metadata": {},
     "output_type": "execute_result"
    }
   ],
   "source": [
    "car_insurance_df[\"ST\"].describe()"
   ]
  },
  {
   "cell_type": "markdown",
   "id": "b1db1f67-f511-45cf-9600-2b2b839b8903",
   "metadata": {},
   "source": [
    "ST-COLUMN:\n",
    "The unique values of the ST column are the states in which the customer lives, categorical values. There are customers in 8 different states, with most customers living in California, obscured by the data entry in two different categories \"California\" and \"Cali\", which should be cleaned up by data wrangling methods. California is closely followed by Oregon and Arizona, while the least customers live in Nevada. Washington and Arizona also have double entry categories that should be merged."
   ]
  },
  {
   "cell_type": "code",
   "execution_count": 31,
   "id": "10484a03-ab2a-4769-8ec6-a5ffd598c38d",
   "metadata": {},
   "outputs": [
    {
     "name": "stdout",
     "output_type": "stream",
     "text": [
      "[nan 'F' 'M' 'Femal' 'Male' 'female']\n",
      "GENDER\n",
      "F         457\n",
      "M         413\n",
      "Male       39\n",
      "female     28\n",
      "Femal      17\n",
      "Name: count, dtype: int64\n"
     ]
    }
   ],
   "source": [
    "print(car_insurance_df[\"GENDER\"].unique())\n",
    "print (car_insurance_df[\"GENDER\"].value_counts())"
   ]
  },
  {
   "cell_type": "code",
   "execution_count": 33,
   "id": "7ac8dca9-18df-448f-80a5-b23504a06eee",
   "metadata": {},
   "outputs": [
    {
     "data": {
      "text/plain": [
       "count     954\n",
       "unique      5\n",
       "top         F\n",
       "freq      457\n",
       "Name: GENDER, dtype: object"
      ]
     },
     "execution_count": 33,
     "metadata": {},
     "output_type": "execute_result"
    }
   ],
   "source": [
    "car_insurance_df[\"GENDER\"].describe()"
   ]
  },
  {
   "cell_type": "markdown",
   "id": "9451828c-6196-46ee-bac1-bf6152345137",
   "metadata": {},
   "source": [
    "GENDER-COLUMN:\n",
    "The GENDER column holds as categorical values the specified gender of each policy holder, with some variations in data entry which should be cleaned up with data wrangling methods. A little more female than male but almost an even split."
   ]
  },
  {
   "cell_type": "code",
   "execution_count": 36,
   "id": "576b9537-5b7b-4693-8653-05e8769d107e",
   "metadata": {},
   "outputs": [
    {
     "name": "stdout",
     "output_type": "stream",
     "text": [
      "['Master' 'Bachelor' 'High School or Below' 'College' 'Bachelors' 'Doctor'\n",
      " nan]\n",
      "Education\n",
      "Bachelor                324\n",
      "College                 313\n",
      "High School or Below    296\n",
      "Master                   94\n",
      "Doctor                   37\n",
      "Bachelors                 7\n",
      "Name: count, dtype: int64\n"
     ]
    }
   ],
   "source": [
    "print(car_insurance_df[\"Education\"].unique())\n",
    "print (car_insurance_df[\"Education\"].value_counts())"
   ]
  },
  {
   "cell_type": "code",
   "execution_count": 38,
   "id": "720021f0-7b9a-43bb-a572-3c36d7b3ca3e",
   "metadata": {},
   "outputs": [
    {
     "data": {
      "text/plain": [
       "count         1071\n",
       "unique           6\n",
       "top       Bachelor\n",
       "freq           324\n",
       "Name: Education, dtype: object"
      ]
     },
     "execution_count": 38,
     "metadata": {},
     "output_type": "execute_result"
    }
   ],
   "source": [
    "car_insurance_df[\"Education\"].describe()"
   ]
  },
  {
   "cell_type": "markdown",
   "id": "c0d4ce70-2947-4ed1-8044-54737e6b801e",
   "metadata": {},
   "source": [
    "Education-COLUMN:\n",
    "The Education column holds the specified educational level of each policy holder as categorical values, with some variations in data entry which should be cleaned up with data wrangling methods. A bit less than 2/3 of all policy holders hold a Bachelor- or College degree while a bit less than 1/3 hold a High-School or lower degree. A bit more than 1/10 of all customers have a masters degree or higher."
   ]
  },
  {
   "cell_type": "code",
   "execution_count": 41,
   "id": "e6a3958b-583f-42cd-ac4d-dfe377c8a869",
   "metadata": {},
   "outputs": [
    {
     "data": {
      "text/plain": [
       "Customer                     1071\n",
       "ST                              8\n",
       "GENDER                          5\n",
       "Education                       6\n",
       "Customer Lifetime Value      1027\n",
       "Income                        774\n",
       "Monthly Premium Auto          132\n",
       "Number of Open Complaints       6\n",
       "Policy Type                     3\n",
       "Vehicle Class                   6\n",
       "Total Claim Amount            761\n",
       "dtype: int64"
      ]
     },
     "execution_count": 41,
     "metadata": {},
     "output_type": "execute_result"
    }
   ],
   "source": [
    "car_insurance_df.iloc[:,0:11].nunique()"
   ]
  },
  {
   "cell_type": "code",
   "execution_count": 43,
   "id": "75f82db2-1724-4092-8844-af2fc42981c4",
   "metadata": {},
   "outputs": [
    {
     "name": "stdout",
     "output_type": "stream",
     "text": [
      "<class 'float'>\n",
      "<class 'str'>\n",
      "<class 'str'>\n"
     ]
    }
   ],
   "source": [
    "print (type(car_insurance_df[\"Customer Lifetime Value\"].iloc[0]))\n",
    "print (type(car_insurance_df[\"Customer Lifetime Value\"].iloc[1]))\n",
    "print (type(car_insurance_df[\"Customer Lifetime Value\"].iloc[2]))"
   ]
  },
  {
   "cell_type": "code",
   "execution_count": 45,
   "id": "8cdcfcc0-0635-4646-8ba0-cd330b459d1a",
   "metadata": {},
   "outputs": [],
   "source": [
    "new_ci = car_insurance_df.copy()"
   ]
  },
  {
   "cell_type": "code",
   "execution_count": 47,
   "id": "ad8088dc-625c-495e-b517-585b0136fb78",
   "metadata": {},
   "outputs": [],
   "source": [
    "new_ci.dropna(subset = [\"Customer Lifetime Value\"], inplace = True)"
   ]
  },
  {
   "cell_type": "code",
   "execution_count": 49,
   "id": "8eee36e4-a804-4b20-aac0-a348aaa0e738",
   "metadata": {},
   "outputs": [
    {
     "data": {
      "text/html": [
       "<div>\n",
       "<style scoped>\n",
       "    .dataframe tbody tr th:only-of-type {\n",
       "        vertical-align: middle;\n",
       "    }\n",
       "\n",
       "    .dataframe tbody tr th {\n",
       "        vertical-align: top;\n",
       "    }\n",
       "\n",
       "    .dataframe thead th {\n",
       "        text-align: right;\n",
       "    }\n",
       "</style>\n",
       "<table border=\"1\" class=\"dataframe\">\n",
       "  <thead>\n",
       "    <tr style=\"text-align: right;\">\n",
       "      <th></th>\n",
       "      <th>Customer</th>\n",
       "      <th>ST</th>\n",
       "      <th>GENDER</th>\n",
       "      <th>Education</th>\n",
       "      <th>Customer Lifetime Value</th>\n",
       "      <th>Income</th>\n",
       "      <th>Monthly Premium Auto</th>\n",
       "      <th>Number of Open Complaints</th>\n",
       "      <th>Policy Type</th>\n",
       "      <th>Vehicle Class</th>\n",
       "      <th>Total Claim Amount</th>\n",
       "    </tr>\n",
       "  </thead>\n",
       "  <tbody>\n",
       "    <tr>\n",
       "      <th>1</th>\n",
       "      <td>QZ44356</td>\n",
       "      <td>Arizona</td>\n",
       "      <td>F</td>\n",
       "      <td>Bachelor</td>\n",
       "      <td>697953.59%</td>\n",
       "      <td>0.0</td>\n",
       "      <td>94.0</td>\n",
       "      <td>1/0/00</td>\n",
       "      <td>Personal Auto</td>\n",
       "      <td>Four-Door Car</td>\n",
       "      <td>1131.464935</td>\n",
       "    </tr>\n",
       "    <tr>\n",
       "      <th>2</th>\n",
       "      <td>AI49188</td>\n",
       "      <td>Nevada</td>\n",
       "      <td>F</td>\n",
       "      <td>Bachelor</td>\n",
       "      <td>1288743.17%</td>\n",
       "      <td>48767.0</td>\n",
       "      <td>108.0</td>\n",
       "      <td>1/0/00</td>\n",
       "      <td>Personal Auto</td>\n",
       "      <td>Two-Door Car</td>\n",
       "      <td>566.472247</td>\n",
       "    </tr>\n",
       "    <tr>\n",
       "      <th>3</th>\n",
       "      <td>WW63253</td>\n",
       "      <td>California</td>\n",
       "      <td>M</td>\n",
       "      <td>Bachelor</td>\n",
       "      <td>764586.18%</td>\n",
       "      <td>0.0</td>\n",
       "      <td>106.0</td>\n",
       "      <td>1/0/00</td>\n",
       "      <td>Corporate Auto</td>\n",
       "      <td>SUV</td>\n",
       "      <td>529.881344</td>\n",
       "    </tr>\n",
       "    <tr>\n",
       "      <th>4</th>\n",
       "      <td>GA49547</td>\n",
       "      <td>Washington</td>\n",
       "      <td>M</td>\n",
       "      <td>High School or Below</td>\n",
       "      <td>536307.65%</td>\n",
       "      <td>36357.0</td>\n",
       "      <td>68.0</td>\n",
       "      <td>1/0/00</td>\n",
       "      <td>Personal Auto</td>\n",
       "      <td>Four-Door Car</td>\n",
       "      <td>17.269323</td>\n",
       "    </tr>\n",
       "    <tr>\n",
       "      <th>5</th>\n",
       "      <td>OC83172</td>\n",
       "      <td>Oregon</td>\n",
       "      <td>F</td>\n",
       "      <td>Bachelor</td>\n",
       "      <td>825629.78%</td>\n",
       "      <td>62902.0</td>\n",
       "      <td>69.0</td>\n",
       "      <td>1/0/00</td>\n",
       "      <td>Personal Auto</td>\n",
       "      <td>Two-Door Car</td>\n",
       "      <td>159.383042</td>\n",
       "    </tr>\n",
       "    <tr>\n",
       "      <th>...</th>\n",
       "      <td>...</td>\n",
       "      <td>...</td>\n",
       "      <td>...</td>\n",
       "      <td>...</td>\n",
       "      <td>...</td>\n",
       "      <td>...</td>\n",
       "      <td>...</td>\n",
       "      <td>...</td>\n",
       "      <td>...</td>\n",
       "      <td>...</td>\n",
       "      <td>...</td>\n",
       "    </tr>\n",
       "    <tr>\n",
       "      <th>1066</th>\n",
       "      <td>TM65736</td>\n",
       "      <td>Oregon</td>\n",
       "      <td>M</td>\n",
       "      <td>Master</td>\n",
       "      <td>305955.03%</td>\n",
       "      <td>38644.0</td>\n",
       "      <td>78.0</td>\n",
       "      <td>1/1/00</td>\n",
       "      <td>Personal Auto</td>\n",
       "      <td>Four-Door Car</td>\n",
       "      <td>361.455219</td>\n",
       "    </tr>\n",
       "    <tr>\n",
       "      <th>1067</th>\n",
       "      <td>VJ51327</td>\n",
       "      <td>Cali</td>\n",
       "      <td>F</td>\n",
       "      <td>High School or Below</td>\n",
       "      <td>2031499.76%</td>\n",
       "      <td>63209.0</td>\n",
       "      <td>102.0</td>\n",
       "      <td>1/2/00</td>\n",
       "      <td>Personal Auto</td>\n",
       "      <td>SUV</td>\n",
       "      <td>207.320041</td>\n",
       "    </tr>\n",
       "    <tr>\n",
       "      <th>1068</th>\n",
       "      <td>GS98873</td>\n",
       "      <td>Arizona</td>\n",
       "      <td>F</td>\n",
       "      <td>Bachelor</td>\n",
       "      <td>323912.47%</td>\n",
       "      <td>16061.0</td>\n",
       "      <td>88.0</td>\n",
       "      <td>1/0/00</td>\n",
       "      <td>Personal Auto</td>\n",
       "      <td>Four-Door Car</td>\n",
       "      <td>633.600000</td>\n",
       "    </tr>\n",
       "    <tr>\n",
       "      <th>1069</th>\n",
       "      <td>CW49887</td>\n",
       "      <td>California</td>\n",
       "      <td>F</td>\n",
       "      <td>Master</td>\n",
       "      <td>462680.11%</td>\n",
       "      <td>79487.0</td>\n",
       "      <td>114.0</td>\n",
       "      <td>1/0/00</td>\n",
       "      <td>Special Auto</td>\n",
       "      <td>SUV</td>\n",
       "      <td>547.200000</td>\n",
       "    </tr>\n",
       "    <tr>\n",
       "      <th>1070</th>\n",
       "      <td>MY31220</td>\n",
       "      <td>California</td>\n",
       "      <td>F</td>\n",
       "      <td>College</td>\n",
       "      <td>899704.02%</td>\n",
       "      <td>54230.0</td>\n",
       "      <td>112.0</td>\n",
       "      <td>1/0/00</td>\n",
       "      <td>Personal Auto</td>\n",
       "      <td>Two-Door Car</td>\n",
       "      <td>537.600000</td>\n",
       "    </tr>\n",
       "  </tbody>\n",
       "</table>\n",
       "<p>1068 rows × 11 columns</p>\n",
       "</div>"
      ],
      "text/plain": [
       "     Customer          ST GENDER             Education  \\\n",
       "1     QZ44356     Arizona      F              Bachelor   \n",
       "2     AI49188      Nevada      F              Bachelor   \n",
       "3     WW63253  California      M              Bachelor   \n",
       "4     GA49547  Washington      M  High School or Below   \n",
       "5     OC83172      Oregon      F              Bachelor   \n",
       "...       ...         ...    ...                   ...   \n",
       "1066  TM65736      Oregon      M                Master   \n",
       "1067  VJ51327        Cali      F  High School or Below   \n",
       "1068  GS98873     Arizona      F              Bachelor   \n",
       "1069  CW49887  California      F                Master   \n",
       "1070  MY31220  California      F               College   \n",
       "\n",
       "     Customer Lifetime Value   Income  Monthly Premium Auto  \\\n",
       "1                 697953.59%      0.0                  94.0   \n",
       "2                1288743.17%  48767.0                 108.0   \n",
       "3                 764586.18%      0.0                 106.0   \n",
       "4                 536307.65%  36357.0                  68.0   \n",
       "5                 825629.78%  62902.0                  69.0   \n",
       "...                      ...      ...                   ...   \n",
       "1066              305955.03%  38644.0                  78.0   \n",
       "1067             2031499.76%  63209.0                 102.0   \n",
       "1068              323912.47%  16061.0                  88.0   \n",
       "1069              462680.11%  79487.0                 114.0   \n",
       "1070              899704.02%  54230.0                 112.0   \n",
       "\n",
       "     Number of Open Complaints     Policy Type  Vehicle Class  \\\n",
       "1                       1/0/00   Personal Auto  Four-Door Car   \n",
       "2                       1/0/00   Personal Auto   Two-Door Car   \n",
       "3                       1/0/00  Corporate Auto            SUV   \n",
       "4                       1/0/00   Personal Auto  Four-Door Car   \n",
       "5                       1/0/00   Personal Auto   Two-Door Car   \n",
       "...                        ...             ...            ...   \n",
       "1066                    1/1/00   Personal Auto  Four-Door Car   \n",
       "1067                    1/2/00   Personal Auto            SUV   \n",
       "1068                    1/0/00   Personal Auto  Four-Door Car   \n",
       "1069                    1/0/00    Special Auto            SUV   \n",
       "1070                    1/0/00   Personal Auto   Two-Door Car   \n",
       "\n",
       "      Total Claim Amount  \n",
       "1            1131.464935  \n",
       "2             566.472247  \n",
       "3             529.881344  \n",
       "4              17.269323  \n",
       "5             159.383042  \n",
       "...                  ...  \n",
       "1066          361.455219  \n",
       "1067          207.320041  \n",
       "1068          633.600000  \n",
       "1069          547.200000  \n",
       "1070          537.600000  \n",
       "\n",
       "[1068 rows x 11 columns]"
      ]
     },
     "execution_count": 49,
     "metadata": {},
     "output_type": "execute_result"
    }
   ],
   "source": [
    "new_ci"
   ]
  },
  {
   "cell_type": "code",
   "execution_count": 51,
   "id": "c82caec2-a2cc-40bd-9b51-cf15c92f2612",
   "metadata": {},
   "outputs": [
    {
     "data": {
      "text/plain": [
       "1        697953.59%\n",
       "2       1288743.17%\n",
       "3        764586.18%\n",
       "4        536307.65%\n",
       "5        825629.78%\n",
       "           ...     \n",
       "1066     305955.03%\n",
       "1067    2031499.76%\n",
       "1068     323912.47%\n",
       "1069     462680.11%\n",
       "1070     899704.02%\n",
       "Name: Customer Lifetime Value, Length: 1068, dtype: object"
      ]
     },
     "execution_count": 51,
     "metadata": {},
     "output_type": "execute_result"
    }
   ],
   "source": [
    "new_ci[\"Customer Lifetime Value\"]"
   ]
  },
  {
   "cell_type": "code",
   "execution_count": 53,
   "id": "70309fc0-b49e-4a3f-8617-0bf87612fcd3",
   "metadata": {},
   "outputs": [],
   "source": [
    "new_ci['Customer Lifetime Value'] = new_ci['Customer Lifetime Value'].str.strip()\n",
    "new_ci['Customer Lifetime Value'] = new_ci['Customer Lifetime Value'].str.replace('[$,%,]', '', regex=True)"
   ]
  },
  {
   "cell_type": "code",
   "execution_count": 55,
   "id": "6882ce70-7ec6-4703-a054-25e41e2eb4bd",
   "metadata": {},
   "outputs": [
    {
     "data": {
      "text/html": [
       "<div>\n",
       "<style scoped>\n",
       "    .dataframe tbody tr th:only-of-type {\n",
       "        vertical-align: middle;\n",
       "    }\n",
       "\n",
       "    .dataframe tbody tr th {\n",
       "        vertical-align: top;\n",
       "    }\n",
       "\n",
       "    .dataframe thead th {\n",
       "        text-align: right;\n",
       "    }\n",
       "</style>\n",
       "<table border=\"1\" class=\"dataframe\">\n",
       "  <thead>\n",
       "    <tr style=\"text-align: right;\">\n",
       "      <th></th>\n",
       "      <th>Customer</th>\n",
       "      <th>ST</th>\n",
       "      <th>GENDER</th>\n",
       "      <th>Education</th>\n",
       "      <th>Customer Lifetime Value</th>\n",
       "      <th>Income</th>\n",
       "      <th>Monthly Premium Auto</th>\n",
       "      <th>Number of Open Complaints</th>\n",
       "      <th>Policy Type</th>\n",
       "      <th>Vehicle Class</th>\n",
       "      <th>Total Claim Amount</th>\n",
       "    </tr>\n",
       "  </thead>\n",
       "  <tbody>\n",
       "    <tr>\n",
       "      <th>1</th>\n",
       "      <td>QZ44356</td>\n",
       "      <td>Arizona</td>\n",
       "      <td>F</td>\n",
       "      <td>Bachelor</td>\n",
       "      <td>697953.59</td>\n",
       "      <td>0.0</td>\n",
       "      <td>94.0</td>\n",
       "      <td>1/0/00</td>\n",
       "      <td>Personal Auto</td>\n",
       "      <td>Four-Door Car</td>\n",
       "      <td>1131.464935</td>\n",
       "    </tr>\n",
       "    <tr>\n",
       "      <th>2</th>\n",
       "      <td>AI49188</td>\n",
       "      <td>Nevada</td>\n",
       "      <td>F</td>\n",
       "      <td>Bachelor</td>\n",
       "      <td>1288743.17</td>\n",
       "      <td>48767.0</td>\n",
       "      <td>108.0</td>\n",
       "      <td>1/0/00</td>\n",
       "      <td>Personal Auto</td>\n",
       "      <td>Two-Door Car</td>\n",
       "      <td>566.472247</td>\n",
       "    </tr>\n",
       "    <tr>\n",
       "      <th>3</th>\n",
       "      <td>WW63253</td>\n",
       "      <td>California</td>\n",
       "      <td>M</td>\n",
       "      <td>Bachelor</td>\n",
       "      <td>764586.18</td>\n",
       "      <td>0.0</td>\n",
       "      <td>106.0</td>\n",
       "      <td>1/0/00</td>\n",
       "      <td>Corporate Auto</td>\n",
       "      <td>SUV</td>\n",
       "      <td>529.881344</td>\n",
       "    </tr>\n",
       "    <tr>\n",
       "      <th>4</th>\n",
       "      <td>GA49547</td>\n",
       "      <td>Washington</td>\n",
       "      <td>M</td>\n",
       "      <td>High School or Below</td>\n",
       "      <td>536307.65</td>\n",
       "      <td>36357.0</td>\n",
       "      <td>68.0</td>\n",
       "      <td>1/0/00</td>\n",
       "      <td>Personal Auto</td>\n",
       "      <td>Four-Door Car</td>\n",
       "      <td>17.269323</td>\n",
       "    </tr>\n",
       "    <tr>\n",
       "      <th>5</th>\n",
       "      <td>OC83172</td>\n",
       "      <td>Oregon</td>\n",
       "      <td>F</td>\n",
       "      <td>Bachelor</td>\n",
       "      <td>825629.78</td>\n",
       "      <td>62902.0</td>\n",
       "      <td>69.0</td>\n",
       "      <td>1/0/00</td>\n",
       "      <td>Personal Auto</td>\n",
       "      <td>Two-Door Car</td>\n",
       "      <td>159.383042</td>\n",
       "    </tr>\n",
       "    <tr>\n",
       "      <th>...</th>\n",
       "      <td>...</td>\n",
       "      <td>...</td>\n",
       "      <td>...</td>\n",
       "      <td>...</td>\n",
       "      <td>...</td>\n",
       "      <td>...</td>\n",
       "      <td>...</td>\n",
       "      <td>...</td>\n",
       "      <td>...</td>\n",
       "      <td>...</td>\n",
       "      <td>...</td>\n",
       "    </tr>\n",
       "    <tr>\n",
       "      <th>1066</th>\n",
       "      <td>TM65736</td>\n",
       "      <td>Oregon</td>\n",
       "      <td>M</td>\n",
       "      <td>Master</td>\n",
       "      <td>305955.03</td>\n",
       "      <td>38644.0</td>\n",
       "      <td>78.0</td>\n",
       "      <td>1/1/00</td>\n",
       "      <td>Personal Auto</td>\n",
       "      <td>Four-Door Car</td>\n",
       "      <td>361.455219</td>\n",
       "    </tr>\n",
       "    <tr>\n",
       "      <th>1067</th>\n",
       "      <td>VJ51327</td>\n",
       "      <td>Cali</td>\n",
       "      <td>F</td>\n",
       "      <td>High School or Below</td>\n",
       "      <td>2031499.76</td>\n",
       "      <td>63209.0</td>\n",
       "      <td>102.0</td>\n",
       "      <td>1/2/00</td>\n",
       "      <td>Personal Auto</td>\n",
       "      <td>SUV</td>\n",
       "      <td>207.320041</td>\n",
       "    </tr>\n",
       "    <tr>\n",
       "      <th>1068</th>\n",
       "      <td>GS98873</td>\n",
       "      <td>Arizona</td>\n",
       "      <td>F</td>\n",
       "      <td>Bachelor</td>\n",
       "      <td>323912.47</td>\n",
       "      <td>16061.0</td>\n",
       "      <td>88.0</td>\n",
       "      <td>1/0/00</td>\n",
       "      <td>Personal Auto</td>\n",
       "      <td>Four-Door Car</td>\n",
       "      <td>633.600000</td>\n",
       "    </tr>\n",
       "    <tr>\n",
       "      <th>1069</th>\n",
       "      <td>CW49887</td>\n",
       "      <td>California</td>\n",
       "      <td>F</td>\n",
       "      <td>Master</td>\n",
       "      <td>462680.11</td>\n",
       "      <td>79487.0</td>\n",
       "      <td>114.0</td>\n",
       "      <td>1/0/00</td>\n",
       "      <td>Special Auto</td>\n",
       "      <td>SUV</td>\n",
       "      <td>547.200000</td>\n",
       "    </tr>\n",
       "    <tr>\n",
       "      <th>1070</th>\n",
       "      <td>MY31220</td>\n",
       "      <td>California</td>\n",
       "      <td>F</td>\n",
       "      <td>College</td>\n",
       "      <td>899704.02</td>\n",
       "      <td>54230.0</td>\n",
       "      <td>112.0</td>\n",
       "      <td>1/0/00</td>\n",
       "      <td>Personal Auto</td>\n",
       "      <td>Two-Door Car</td>\n",
       "      <td>537.600000</td>\n",
       "    </tr>\n",
       "  </tbody>\n",
       "</table>\n",
       "<p>1068 rows × 11 columns</p>\n",
       "</div>"
      ],
      "text/plain": [
       "     Customer          ST GENDER             Education  \\\n",
       "1     QZ44356     Arizona      F              Bachelor   \n",
       "2     AI49188      Nevada      F              Bachelor   \n",
       "3     WW63253  California      M              Bachelor   \n",
       "4     GA49547  Washington      M  High School or Below   \n",
       "5     OC83172      Oregon      F              Bachelor   \n",
       "...       ...         ...    ...                   ...   \n",
       "1066  TM65736      Oregon      M                Master   \n",
       "1067  VJ51327        Cali      F  High School or Below   \n",
       "1068  GS98873     Arizona      F              Bachelor   \n",
       "1069  CW49887  California      F                Master   \n",
       "1070  MY31220  California      F               College   \n",
       "\n",
       "     Customer Lifetime Value   Income  Monthly Premium Auto  \\\n",
       "1                  697953.59      0.0                  94.0   \n",
       "2                 1288743.17  48767.0                 108.0   \n",
       "3                  764586.18      0.0                 106.0   \n",
       "4                  536307.65  36357.0                  68.0   \n",
       "5                  825629.78  62902.0                  69.0   \n",
       "...                      ...      ...                   ...   \n",
       "1066               305955.03  38644.0                  78.0   \n",
       "1067              2031499.76  63209.0                 102.0   \n",
       "1068               323912.47  16061.0                  88.0   \n",
       "1069               462680.11  79487.0                 114.0   \n",
       "1070               899704.02  54230.0                 112.0   \n",
       "\n",
       "     Number of Open Complaints     Policy Type  Vehicle Class  \\\n",
       "1                       1/0/00   Personal Auto  Four-Door Car   \n",
       "2                       1/0/00   Personal Auto   Two-Door Car   \n",
       "3                       1/0/00  Corporate Auto            SUV   \n",
       "4                       1/0/00   Personal Auto  Four-Door Car   \n",
       "5                       1/0/00   Personal Auto   Two-Door Car   \n",
       "...                        ...             ...            ...   \n",
       "1066                    1/1/00   Personal Auto  Four-Door Car   \n",
       "1067                    1/2/00   Personal Auto            SUV   \n",
       "1068                    1/0/00   Personal Auto  Four-Door Car   \n",
       "1069                    1/0/00    Special Auto            SUV   \n",
       "1070                    1/0/00   Personal Auto   Two-Door Car   \n",
       "\n",
       "      Total Claim Amount  \n",
       "1            1131.464935  \n",
       "2             566.472247  \n",
       "3             529.881344  \n",
       "4              17.269323  \n",
       "5             159.383042  \n",
       "...                  ...  \n",
       "1066          361.455219  \n",
       "1067          207.320041  \n",
       "1068          633.600000  \n",
       "1069          547.200000  \n",
       "1070          537.600000  \n",
       "\n",
       "[1068 rows x 11 columns]"
      ]
     },
     "execution_count": 55,
     "metadata": {},
     "output_type": "execute_result"
    }
   ],
   "source": [
    "new_ci"
   ]
  },
  {
   "cell_type": "code",
   "execution_count": 57,
   "id": "b62653fd-e15c-4c58-a6d8-ab94d77693f6",
   "metadata": {},
   "outputs": [
    {
     "name": "stdout",
     "output_type": "stream",
     "text": [
      "1006460.83\n",
      "995170.77\n"
     ]
    }
   ],
   "source": [
    "print(new_ci[\"Customer Lifetime Value\"].min())\n",
    "print (new_ci[\"Customer Lifetime Value\"].max())"
   ]
  },
  {
   "cell_type": "code",
   "execution_count": 59,
   "id": "891b8a89-5a45-43f3-85cd-349cc9db03a1",
   "metadata": {},
   "outputs": [
    {
     "data": {
      "text/plain": [
       "Customer                      object\n",
       "ST                            object\n",
       "GENDER                        object\n",
       "Education                     object\n",
       "Customer Lifetime Value      float64\n",
       "Income                       float64\n",
       "Monthly Premium Auto         float64\n",
       "Number of Open Complaints     object\n",
       "Policy Type                   object\n",
       "Vehicle Class                 object\n",
       "Total Claim Amount           float64\n",
       "dtype: object"
      ]
     },
     "execution_count": 59,
     "metadata": {},
     "output_type": "execute_result"
    }
   ],
   "source": [
    "new_ci[\"Customer Lifetime Value\"] = pd.to_numeric(new_ci[\"Customer Lifetime Value\"], errors='coerce')\n",
    "new_ci.dtypes"
   ]
  },
  {
   "cell_type": "code",
   "execution_count": 61,
   "id": "d9543d9d-7a84-4d20-9df9-215fdbab27d3",
   "metadata": {},
   "outputs": [
    {
     "name": "stdout",
     "output_type": "stream",
     "text": [
      "<class 'numpy.float64'>\n"
     ]
    }
   ],
   "source": [
    "print(type(new_ci[\"Customer Lifetime Value\"].iloc[3]))"
   ]
  },
  {
   "cell_type": "code",
   "execution_count": 63,
   "id": "d09b5c2e-87af-407e-a8d6-d2b596a7e1bb",
   "metadata": {},
   "outputs": [
    {
     "name": "stdout",
     "output_type": "stream",
     "text": [
      "200435.07\n",
      "5816655.35\n"
     ]
    }
   ],
   "source": [
    "print(new_ci[\"Customer Lifetime Value\"].min())\n",
    "print (new_ci[\"Customer Lifetime Value\"].max())"
   ]
  },
  {
   "cell_type": "code",
   "execution_count": 65,
   "id": "219a9e3d-21bf-4352-bdbb-70228c0fc73f",
   "metadata": {},
   "outputs": [
    {
     "data": {
      "text/plain": [
       "count    1.068000e+03\n",
       "mean     7.936903e+05\n",
       "std      6.434784e+05\n",
       "min      2.004351e+05\n",
       "25%      4.034080e+05\n",
       "50%      5.881742e+05\n",
       "75%      8.962872e+05\n",
       "max      5.816655e+06\n",
       "Name: Customer Lifetime Value, dtype: float64"
      ]
     },
     "execution_count": 65,
     "metadata": {},
     "output_type": "execute_result"
    }
   ],
   "source": [
    "new_ci[\"Customer Lifetime Value\"].describe()"
   ]
  },
  {
   "cell_type": "code",
   "execution_count": 67,
   "id": "afe0b54b-e523-4529-9d1a-9e221b28d73f",
   "metadata": {},
   "outputs": [],
   "source": [
    "pd.options.display.float_format = '{:.2f}'.format"
   ]
  },
  {
   "cell_type": "code",
   "execution_count": 69,
   "id": "bdfd9ddb-cf6c-4913-a739-eabde8fc094a",
   "metadata": {},
   "outputs": [
    {
     "data": {
      "text/plain": [
       "count      1068.00\n",
       "mean     793690.26\n",
       "std      643478.41\n",
       "min      200435.07\n",
       "25%      403407.99\n",
       "50%      588174.23\n",
       "75%      896287.20\n",
       "max     5816655.35\n",
       "Name: Customer Lifetime Value, dtype: float64"
      ]
     },
     "execution_count": 69,
     "metadata": {},
     "output_type": "execute_result"
    }
   ],
   "source": [
    "new_ci[\"Customer Lifetime Value\"].describe()"
   ]
  },
  {
   "cell_type": "markdown",
   "id": "5b15749e-d27b-4787-b9a0-4652216eab5d",
   "metadata": {},
   "source": [
    "Customer Lifetime Value - Column:\n",
    "-This column had to laboriously be changed from string to float after removing the NaNs and the % and any other possibly conflicting values, before we could do any meaningful summary statistics on it.\n",
    "-the mean CLV (Customer Lifetime Value) is significantly higher than the median, with a high standard deviation, which indicates policy holders with very high premiums skewing the average upward. \n",
    "-The highest projected CLV is about 30 times higher than the lowest, and 10 times higher than the mean, indicating a broad range of premiums."
   ]
  },
  {
   "cell_type": "code",
   "execution_count": 72,
   "id": "dd091766-25bf-4153-acc6-46e276b8b3ab",
   "metadata": {},
   "outputs": [
    {
     "name": "stdout",
     "output_type": "stream",
     "text": [
      "float64\n"
     ]
    }
   ],
   "source": [
    "print (car_insurance_df[\"Income\"].dtypes)"
   ]
  },
  {
   "cell_type": "code",
   "execution_count": 74,
   "id": "b12f60a3-3f3e-4fb2-b33a-a44c5f04322a",
   "metadata": {},
   "outputs": [
    {
     "name": "stdout",
     "output_type": "stream",
     "text": [
      "0.0\n",
      "99960.0\n"
     ]
    }
   ],
   "source": [
    "print(car_insurance_df[\"Income\"].min())\n",
    "print (car_insurance_df[\"Income\"].max())"
   ]
  },
  {
   "cell_type": "code",
   "execution_count": 76,
   "id": "820afa59-f8b5-4670-a8f6-10628644316b",
   "metadata": {},
   "outputs": [
    {
     "data": {
      "text/plain": [
       "count    1071.00\n",
       "mean    39295.70\n",
       "std     30469.43\n",
       "min         0.00\n",
       "25%     14072.00\n",
       "50%     36234.00\n",
       "75%     64631.00\n",
       "max     99960.00\n",
       "Name: Income, dtype: float64"
      ]
     },
     "execution_count": 76,
     "metadata": {},
     "output_type": "execute_result"
    }
   ],
   "source": [
    "car_insurance_df[\"Income\"].describe()"
   ]
  },
  {
   "cell_type": "markdown",
   "id": "b3b7fbd4-bb6b-4f1b-ad61-7c7d32519656",
   "metadata": {},
   "source": [
    "Income-Column:\n",
    "The income of policy holders ranges from 0 to 99960 yearly income, where 0 is probably either people who did not want to share their finances with the insurance company or non-working spouses. About a quarter of policy holders entered 0, the rest is spread between 10000 and 100000. The average income is 39295, while the mean is a little bit lower with 36234, indicating that there are high income customers skewing the average upward moreso than the 0-income customers are skewing it downward."
   ]
  },
  {
   "cell_type": "code",
   "execution_count": 79,
   "id": "d950d8f1-3a53-4013-a271-baeb0baaf176",
   "metadata": {},
   "outputs": [
    {
     "name": "stdout",
     "output_type": "stream",
     "text": [
      "61.0\n",
      "35354.0\n"
     ]
    }
   ],
   "source": [
    "print(car_insurance_df[\"Monthly Premium Auto\"].min())\n",
    "print (car_insurance_df[\"Monthly Premium Auto\"].max())"
   ]
  },
  {
   "cell_type": "code",
   "execution_count": 81,
   "id": "bac7b863-a067-4244-beb4-521edc9417dd",
   "metadata": {},
   "outputs": [
    {
     "data": {
      "text/plain": [
       "count    1071.00\n",
       "mean      193.23\n",
       "std      1601.19\n",
       "min        61.00\n",
       "25%        68.00\n",
       "50%        83.00\n",
       "75%       109.50\n",
       "max     35354.00\n",
       "Name: Monthly Premium Auto, dtype: float64"
      ]
     },
     "execution_count": 81,
     "metadata": {},
     "output_type": "execute_result"
    }
   ],
   "source": [
    "car_insurance_df[\"Monthly Premium Auto\"].describe()"
   ]
  },
  {
   "cell_type": "code",
   "execution_count": 83,
   "id": "4db53dc1-bc19-47ce-8a48-503c0c5a71c3",
   "metadata": {},
   "outputs": [
    {
     "name": "stdout",
     "output_type": "stream",
     "text": [
      "[61.0, 62.0, 63.0, 64.0, 65.0, 66.0, 67.0, 68.0, 69.0, 70.0, 71.0, 72.0, 73.0, 74.0, 76.0, 77.0, 78.0, 79.0, 80.0, 81.0, 82.0, 83.0, 84.0, 85.0, 86.0, 87.0, 88.0, 89.0, 90.0, 91.0, 92.0, 93.0, 94.0, 95.0, 96.0, 97.0, 98.0, 99.0, 100.0, 101.0, 102.0, 103.0, 104.0, 105.0, 106.0, 107.0, 108.0, 109.0, 110.0, 111.0, 112.0, 113.0, 114.0, 115.0, 116.0, 117.0, 118.0, 119.0, 121.0, 123.0, 124.0, 125.0, 126.0, 127.0, 128.0, 129.0, 130.0, 131.0, 132.0, 133.0, 134.0, 135.0, 136.0, 137.0, 138.0, 139.0, 140.0, 141.0, 142.0, 147.0, 148.0, 150.0, 152.0, 153.0, 154.0, 156.0, 159.0, 160.0, 161.0, 165.0, 171.0, 172.0, 173.0, 176.0, 177.0, 180.0, 181.0, 182.0, 183.0, 186.0, 188.0, 189.0, 190.0, 192.0, 193.0, 196.0, 197.0, 198.0, 199.0, 203.0, 206.0, 210.0, 217.0, 225.0, 230.0, 237.0, 239.0, 244.0, 245.0, 253.0, 255.0, 256.0, 271.0, 276.0, 285.0, 295.0, 1000.0, 1005.0, 6464.0, 10202.0, 35353.0, 35354.0, nan]\n",
      "Monthly Premium Auto\n",
      "65.00     47\n",
      "63.00     39\n",
      "71.00     37\n",
      "67.00     37\n",
      "73.00     37\n",
      "          ..\n",
      "177.00     1\n",
      "181.00     1\n",
      "276.00     1\n",
      "253.00     1\n",
      "199.00     1\n",
      "Name: count, Length: 132, dtype: int64\n"
     ]
    }
   ],
   "source": [
    "print(sorted(car_insurance_df[\"Monthly Premium Auto\"].unique()))\n",
    "print(car_insurance_df[\"Monthly Premium Auto\"].value_counts())"
   ]
  },
  {
   "cell_type": "markdown",
   "id": "eab0558c-53ab-4317-84c3-d4a4237bb6f9",
   "metadata": {},
   "source": [
    "Monthly Premium Auto-Column: The monthly premium ranges from 61 to 35354, which appears to be an outlier, since it is higher than some monthly incomes, and the mean is only 193 and the median 83 dollars. When looking at the unique values we get about 4-6 extremely high premiums that fall way outside the normal spectrum."
   ]
  },
  {
   "cell_type": "code",
   "execution_count": 86,
   "id": "34b32111-8339-4a81-adf3-9148142a6e22",
   "metadata": {},
   "outputs": [
    {
     "name": "stdout",
     "output_type": "stream",
     "text": [
      "['1/0/00' '1/2/00' '1/1/00' '1/3/00' '1/5/00' '1/4/00' nan]\n",
      "Number of Open Complaints\n",
      "1/0/00    830\n",
      "1/1/00    138\n",
      "1/2/00     50\n",
      "1/3/00     34\n",
      "1/4/00     13\n",
      "1/5/00      6\n",
      "Name: count, dtype: int64\n"
     ]
    }
   ],
   "source": [
    "print(car_insurance_df[\"Number of Open Complaints\"].unique())\n",
    "print (car_insurance_df[\"Number of Open Complaints\"].value_counts())"
   ]
  },
  {
   "cell_type": "code",
   "execution_count": 88,
   "id": "460043a3-0f4e-4903-a304-f3cb3bce81c0",
   "metadata": {},
   "outputs": [
    {
     "name": "stdout",
     "output_type": "stream",
     "text": [
      "<class 'str'>\n",
      "<class 'str'>\n",
      "<class 'str'>\n",
      "<class 'str'>\n"
     ]
    }
   ],
   "source": [
    "print (type(car_insurance_df[\"Number of Open Complaints\"].iloc[0]))\n",
    "print (type(car_insurance_df[\"Number of Open Complaints\"].iloc[1]))\n",
    "print (type(car_insurance_df[\"Number of Open Complaints\"].iloc[2]))\n",
    "print (type(car_insurance_df[\"Number of Open Complaints\"].iloc[3]))"
   ]
  },
  {
   "cell_type": "code",
   "execution_count": 90,
   "id": "c5f7d939-bd8a-4147-bc72-e60c5baf1575",
   "metadata": {},
   "outputs": [
    {
     "data": {
      "text/plain": [
       "count       1071\n",
       "unique         6\n",
       "top       1/0/00\n",
       "freq         830\n",
       "Name: Number of Open Complaints, dtype: object"
      ]
     },
     "execution_count": 90,
     "metadata": {},
     "output_type": "execute_result"
    }
   ],
   "source": [
    "car_insurance_df[\"Number of Open Complaints\"].describe()"
   ]
  },
  {
   "cell_type": "markdown",
   "id": "b8397365-1c19-43ec-a3bc-882b9354111a",
   "metadata": {},
   "source": [
    "Number of Open Complaints-column:\n",
    "The number of open complaints represent a categorical value, even though they are represented by a string of numbers that are theoretically open ended, realistically there will only ever be a finite number of open complaints per given customer. The values are entered as a string and range from 1 to 5 open complaints, with most customer holders having no open complaints.\n"
   ]
  },
  {
   "cell_type": "code",
   "execution_count": 93,
   "id": "6edfeb5e-a383-4309-acc8-2e7db65f41dc",
   "metadata": {},
   "outputs": [
    {
     "name": "stdout",
     "output_type": "stream",
     "text": [
      "['Personal Auto' 'Corporate Auto' 'Special Auto' nan]\n",
      "Policy Type\n",
      "Personal Auto     780\n",
      "Corporate Auto    234\n",
      "Special Auto       57\n",
      "Name: count, dtype: int64\n"
     ]
    }
   ],
   "source": [
    "print(car_insurance_df[\"Policy Type\"].unique())\n",
    "print (car_insurance_df[\"Policy Type\"].value_counts())"
   ]
  },
  {
   "cell_type": "code",
   "execution_count": 95,
   "id": "a90d1485-8572-43dc-bb0a-9e370052b759",
   "metadata": {},
   "outputs": [
    {
     "data": {
      "text/plain": [
       "count              1071\n",
       "unique                3\n",
       "top       Personal Auto\n",
       "freq                780\n",
       "Name: Policy Type, dtype: object"
      ]
     },
     "execution_count": 95,
     "metadata": {},
     "output_type": "execute_result"
    }
   ],
   "source": [
    "car_insurance_df[\"Policy Type\"].describe()"
   ]
  },
  {
   "cell_type": "markdown",
   "id": "6e9473ea-1600-4a9a-8966-831d9f1c4cac",
   "metadata": {},
   "source": [
    "Policy Type-column:\n",
    "Representing the different types of policy a customer can hold, with the overwhelming majority (about 3/4) choosing Personal Auto, followed by 1/4 of Corporate Auto, and some Special Auto."
   ]
  },
  {
   "cell_type": "code",
   "execution_count": 98,
   "id": "58d73fb1-6cb1-466e-82b3-b6b1b44365f8",
   "metadata": {},
   "outputs": [
    {
     "name": "stdout",
     "output_type": "stream",
     "text": [
      "['Four-Door Car' 'Two-Door Car' 'SUV' 'Luxury SUV' 'Sports Car'\n",
      " 'Luxury Car' nan]\n",
      "Vehicle Class\n",
      "Four-Door Car    576\n",
      "Two-Door Car     205\n",
      "SUV              199\n",
      "Sports Car        57\n",
      "Luxury SUV        20\n",
      "Luxury Car        14\n",
      "Name: count, dtype: int64\n"
     ]
    }
   ],
   "source": [
    "print(car_insurance_df[\"Vehicle Class\"].unique())\n",
    "print (car_insurance_df[\"Vehicle Class\"].value_counts())"
   ]
  },
  {
   "cell_type": "code",
   "execution_count": 100,
   "id": "b2163d76-2e1a-4352-bc52-10e8cab2dda2",
   "metadata": {},
   "outputs": [
    {
     "data": {
      "text/plain": [
       "count              1071\n",
       "unique                6\n",
       "top       Four-Door Car\n",
       "freq                576\n",
       "Name: Vehicle Class, dtype: object"
      ]
     },
     "execution_count": 100,
     "metadata": {},
     "output_type": "execute_result"
    }
   ],
   "source": [
    "car_insurance_df[\"Vehicle Class\"].describe()"
   ]
  },
  {
   "cell_type": "markdown",
   "id": "8debab3d-64a4-4618-9056-e4b817546bbb",
   "metadata": {},
   "source": [
    "Vehicle Class-column:\n",
    "Representing the different types of Vehicle the cusomer has insured, with the majority (about 1/2) having a Four-door car, followed by Two-Door Car and SUV, while less people have Sports- or Luxury-type insurance."
   ]
  },
  {
   "cell_type": "code",
   "execution_count": 103,
   "id": "6249cc77-6aaa-4c17-9a0d-1a3b2586f210",
   "metadata": {},
   "outputs": [
    {
     "data": {
      "text/plain": [
       "count   1071.00\n",
       "mean     404.99\n",
       "std      293.03\n",
       "min        0.38\n",
       "25%      202.16\n",
       "50%      354.73\n",
       "75%      532.80\n",
       "max     2893.24\n",
       "Name: Total Claim Amount, dtype: float64"
      ]
     },
     "execution_count": 103,
     "metadata": {},
     "output_type": "execute_result"
    }
   ],
   "source": [
    "car_insurance_df.iloc[:,0:11].nunique()\n",
    "car_insurance_df[\"Total Claim Amount\"].describe()"
   ]
  },
  {
   "cell_type": "code",
   "execution_count": 105,
   "id": "c2bdee6a-c29a-41c8-9974-8ce36abdc2f8",
   "metadata": {},
   "outputs": [
    {
     "data": {
      "text/plain": [
       "count   1071.00\n",
       "mean     404.99\n",
       "std      293.03\n",
       "min        0.38\n",
       "25%      202.16\n",
       "50%      354.73\n",
       "75%      532.80\n",
       "max     2893.24\n",
       "Name: Total Claim Amount, dtype: float64"
      ]
     },
     "execution_count": 105,
     "metadata": {},
     "output_type": "execute_result"
    }
   ],
   "source": [
    "car_insurance_df[\"Total Claim Amount\"].describe()"
   ]
  },
  {
   "cell_type": "markdown",
   "id": "5973955b-44ce-47ce-aba9-17e6a6d0cfb0",
   "metadata": {},
   "source": [
    "Total Claim Amount - Column:\n",
    "The total claim amount ranges from 0.38 to 2893.24 dollars, with the average claim being about 400 dollars, which is a bit higher than the mean indicating that the high claim amounts are skewing the average upwards, even though most customers have lower claim amount, with 75% being under 533 dollars."
   ]
  },
  {
   "cell_type": "markdown",
   "id": "4a703890-63db-4944-b7ab-95a4f8185120",
   "metadata": {},
   "source": [
    "## Challenge 2: analyzing the data"
   ]
  },
  {
   "cell_type": "markdown",
   "id": "0776a403-c56a-452f-ac33-5fd4fdb06fc7",
   "metadata": {},
   "source": [
    "### Exercise 1"
   ]
  },
  {
   "cell_type": "markdown",
   "id": "eedbc484-da4d-4f9c-9343-e1d44311a87e",
   "metadata": {},
   "source": [
    "The marketing team wants to know the top 5 less common customer locations. Create a pandas Series object that contains the customer locations and their frequencies, and then retrieve the top 5 less common locations in ascending order."
   ]
  },
  {
   "cell_type": "code",
   "execution_count": 111,
   "id": "2dca5073-4520-4f42-9390-4b92733284ed",
   "metadata": {},
   "outputs": [
    {
     "name": "stdout",
     "output_type": "stream",
     "text": [
      "ST\n",
      "Oregon        320\n",
      "California    211\n",
      "Arizona       186\n",
      "Cali          120\n",
      "Nevada         98\n",
      "Washington     81\n",
      "WA             30\n",
      "AZ             25\n",
      "Name: count, dtype: int64\n"
     ]
    }
   ],
   "source": [
    "# Your code here\n",
    "print (car_insurance_df[\"ST\"].value_counts())"
   ]
  },
  {
   "cell_type": "code",
   "execution_count": 113,
   "id": "ea27b4a6-45e7-4d4c-9f70-5e985b590ed0",
   "metadata": {},
   "outputs": [
    {
     "data": {
      "text/plain": [
       "ST\n",
       "Oregon        320\n",
       "California    211\n",
       "Arizona       186\n",
       "Cali          120\n",
       "Nevada         98\n",
       "Washington     81\n",
       "WA             30\n",
       "AZ             25\n",
       "Name: count, dtype: int64"
      ]
     },
     "execution_count": 113,
     "metadata": {},
     "output_type": "execute_result"
    }
   ],
   "source": [
    "loc_series = car_insurance_df[\"ST\"].value_counts()\n",
    "loc_series"
   ]
  },
  {
   "cell_type": "code",
   "execution_count": 115,
   "id": "e631f33a-7e6b-41c0-bedf-0cd4230c77bf",
   "metadata": {},
   "outputs": [
    {
     "name": "stdout",
     "output_type": "stream",
     "text": [
      "ST\n",
      "Oregon        320\n",
      "California    331\n",
      "Arizona       211\n",
      "Nevada         98\n",
      "Washington    111\n",
      "Name: count, dtype: int64\n"
     ]
    }
   ],
   "source": [
    "merged_value_cali = loc_series['California'] + loc_series['Cali']\n",
    "merged_value_az = loc_series['Arizona'] + loc_series['AZ']\n",
    "merged_value_wa = loc_series['Washington'] + loc_series['WA']\n",
    "\n",
    "\n",
    "loc_new = loc_series.drop(['Cali', 'AZ','WA'])  # Remove the original rows\n",
    "loc_new['California'] = merged_value_cali\n",
    "loc_new['Arizona'] = merged_value_az\n",
    "loc_new['Washington'] = merged_value_wa\n",
    "\n",
    "print(loc_new)"
   ]
  },
  {
   "cell_type": "code",
   "execution_count": 117,
   "id": "32b984ce-eac7-4f45-86f1-bcbce764a778",
   "metadata": {},
   "outputs": [
    {
     "name": "stdout",
     "output_type": "stream",
     "text": [
      "The 5 least common customer locations in ascending order:\n",
      "ST\n",
      "Nevada         98\n",
      "Washington    111\n",
      "Arizona       211\n",
      "Oregon        320\n",
      "California    331\n",
      "Name: count, dtype: int64\n"
     ]
    }
   ],
   "source": [
    "sorted_loc = loc_new.sort_values(ascending = True)\n",
    "print (\"The 5 least common customer locations in ascending order:\")\n",
    "print(sorted_loc)"
   ]
  },
  {
   "cell_type": "markdown",
   "id": "0ce80f43-4afa-43c7-a78a-c917444da4e0",
   "metadata": {},
   "source": [
    "### Exercise 2\n",
    "\n",
    "The sales team wants to know the total number of policies sold for each type of policy. Create a pandas Series object that contains the policy types and their total number of policies sold, and then retrieve the policy type with the highest number of policies sold."
   ]
  },
  {
   "cell_type": "markdown",
   "id": "a9f13997-1555-4f98-aca6-970fda1d2c3f",
   "metadata": {},
   "source": [
    "*Hint:*\n",
    "- *Using value_counts() method simplifies this analysis.*\n",
    "- *Futhermore, there is a method that returns the index of the maximum value in a column or row.*\n"
   ]
  },
  {
   "cell_type": "code",
   "execution_count": 119,
   "id": "bcfad6c1-9af2-4b0b-9aa9-0dc5c17473c0",
   "metadata": {},
   "outputs": [
    {
     "name": "stdout",
     "output_type": "stream",
     "text": [
      "['Personal Auto' 'Corporate Auto' 'Special Auto' nan]\n"
     ]
    },
    {
     "data": {
      "text/plain": [
       "Policy Type\n",
       "Personal Auto     780\n",
       "Corporate Auto    234\n",
       "Special Auto       57\n",
       "Name: count, dtype: int64"
      ]
     },
     "execution_count": 119,
     "metadata": {},
     "output_type": "execute_result"
    }
   ],
   "source": [
    "print(car_insurance_df[\"Policy Type\"].unique())\n",
    "policy_counts = car_insurance_df[\"Policy Type\"].value_counts()\n",
    "policy_counts"
   ]
  },
  {
   "cell_type": "code",
   "execution_count": 121,
   "id": "370afee6-8847-45ae-be87-d4d84df73752",
   "metadata": {},
   "outputs": [
    {
     "name": "stdout",
     "output_type": "stream",
     "text": [
      "The Policy with the highest number of policies sold is: Personal Auto\n"
     ]
    }
   ],
   "source": [
    "policy_highest = policy_counts.idxmax()\n",
    "print(\"The Policy with the highest number of policies sold is:\", policy_highest)\n"
   ]
  },
  {
   "cell_type": "markdown",
   "id": "0b863fd3-bf91-4d5d-86eb-be29ed9f5b70",
   "metadata": {},
   "source": [
    "### Exercise 3\n",
    "\n",
    "The sales team wants to know if customers with Personal Auto have a lower income than those with Corporate Auto. How does the average income compare between the two policy types?"
   ]
  },
  {
   "cell_type": "markdown",
   "id": "b1386d75-2810-4aa1-93e0-9485aa12d552",
   "metadata": {},
   "source": [
    "- Use *loc* to create two dataframes: one containing only Personal Auto policies and one containing only Corporate Auto policies.\n",
    "- Calculate the average income for each policy.\n",
    "- Print the results."
   ]
  },
  {
   "cell_type": "code",
   "execution_count": 123,
   "id": "b683e656-d0a0-47e6-acdd-af77e8f5e1a5",
   "metadata": {},
   "outputs": [
    {
     "data": {
      "text/html": [
       "<div>\n",
       "<style scoped>\n",
       "    .dataframe tbody tr th:only-of-type {\n",
       "        vertical-align: middle;\n",
       "    }\n",
       "\n",
       "    .dataframe tbody tr th {\n",
       "        vertical-align: top;\n",
       "    }\n",
       "\n",
       "    .dataframe thead th {\n",
       "        text-align: right;\n",
       "    }\n",
       "</style>\n",
       "<table border=\"1\" class=\"dataframe\">\n",
       "  <thead>\n",
       "    <tr style=\"text-align: right;\">\n",
       "      <th></th>\n",
       "      <th>Customer</th>\n",
       "      <th>ST</th>\n",
       "      <th>GENDER</th>\n",
       "      <th>Education</th>\n",
       "      <th>Customer Lifetime Value</th>\n",
       "      <th>Income</th>\n",
       "      <th>Monthly Premium Auto</th>\n",
       "      <th>Number of Open Complaints</th>\n",
       "      <th>Policy Type</th>\n",
       "      <th>Vehicle Class</th>\n",
       "      <th>Total Claim Amount</th>\n",
       "    </tr>\n",
       "  </thead>\n",
       "  <tbody>\n",
       "    <tr>\n",
       "      <th>0</th>\n",
       "      <td>RB50392</td>\n",
       "      <td>Washington</td>\n",
       "      <td>NaN</td>\n",
       "      <td>Master</td>\n",
       "      <td>NaN</td>\n",
       "      <td>0.00</td>\n",
       "      <td>1000.00</td>\n",
       "      <td>1/0/00</td>\n",
       "      <td>Personal Auto</td>\n",
       "      <td>Four-Door Car</td>\n",
       "      <td>2.70</td>\n",
       "    </tr>\n",
       "    <tr>\n",
       "      <th>1</th>\n",
       "      <td>QZ44356</td>\n",
       "      <td>Arizona</td>\n",
       "      <td>F</td>\n",
       "      <td>Bachelor</td>\n",
       "      <td>697953.59%</td>\n",
       "      <td>0.00</td>\n",
       "      <td>94.00</td>\n",
       "      <td>1/0/00</td>\n",
       "      <td>Personal Auto</td>\n",
       "      <td>Four-Door Car</td>\n",
       "      <td>1131.46</td>\n",
       "    </tr>\n",
       "    <tr>\n",
       "      <th>2</th>\n",
       "      <td>AI49188</td>\n",
       "      <td>Nevada</td>\n",
       "      <td>F</td>\n",
       "      <td>Bachelor</td>\n",
       "      <td>1288743.17%</td>\n",
       "      <td>48767.00</td>\n",
       "      <td>108.00</td>\n",
       "      <td>1/0/00</td>\n",
       "      <td>Personal Auto</td>\n",
       "      <td>Two-Door Car</td>\n",
       "      <td>566.47</td>\n",
       "    </tr>\n",
       "    <tr>\n",
       "      <th>3</th>\n",
       "      <td>WW63253</td>\n",
       "      <td>California</td>\n",
       "      <td>M</td>\n",
       "      <td>Bachelor</td>\n",
       "      <td>764586.18%</td>\n",
       "      <td>0.00</td>\n",
       "      <td>106.00</td>\n",
       "      <td>1/0/00</td>\n",
       "      <td>Corporate Auto</td>\n",
       "      <td>SUV</td>\n",
       "      <td>529.88</td>\n",
       "    </tr>\n",
       "    <tr>\n",
       "      <th>4</th>\n",
       "      <td>GA49547</td>\n",
       "      <td>Washington</td>\n",
       "      <td>M</td>\n",
       "      <td>High School or Below</td>\n",
       "      <td>536307.65%</td>\n",
       "      <td>36357.00</td>\n",
       "      <td>68.00</td>\n",
       "      <td>1/0/00</td>\n",
       "      <td>Personal Auto</td>\n",
       "      <td>Four-Door Car</td>\n",
       "      <td>17.27</td>\n",
       "    </tr>\n",
       "  </tbody>\n",
       "</table>\n",
       "</div>"
      ],
      "text/plain": [
       "  Customer          ST GENDER             Education Customer Lifetime Value  \\\n",
       "0  RB50392  Washington    NaN                Master                     NaN   \n",
       "1  QZ44356     Arizona      F              Bachelor              697953.59%   \n",
       "2  AI49188      Nevada      F              Bachelor             1288743.17%   \n",
       "3  WW63253  California      M              Bachelor              764586.18%   \n",
       "4  GA49547  Washington      M  High School or Below              536307.65%   \n",
       "\n",
       "    Income  Monthly Premium Auto Number of Open Complaints     Policy Type  \\\n",
       "0     0.00               1000.00                    1/0/00   Personal Auto   \n",
       "1     0.00                 94.00                    1/0/00   Personal Auto   \n",
       "2 48767.00                108.00                    1/0/00   Personal Auto   \n",
       "3     0.00                106.00                    1/0/00  Corporate Auto   \n",
       "4 36357.00                 68.00                    1/0/00   Personal Auto   \n",
       "\n",
       "   Vehicle Class  Total Claim Amount  \n",
       "0  Four-Door Car                2.70  \n",
       "1  Four-Door Car             1131.46  \n",
       "2   Two-Door Car              566.47  \n",
       "3            SUV              529.88  \n",
       "4  Four-Door Car               17.27  "
      ]
     },
     "execution_count": 123,
     "metadata": {},
     "output_type": "execute_result"
    }
   ],
   "source": [
    "car_insurance_df = pd.read_csv(\"https://raw.githubusercontent.com/data-bootcamp-v4/data/main/file1.csv\")\n",
    "\n",
    "car_insurance_df.head()"
   ]
  },
  {
   "cell_type": "code",
   "execution_count": 125,
   "id": "0c0563cf-6f8b-463d-a321-651a972f82e5",
   "metadata": {},
   "outputs": [
    {
     "data": {
      "text/plain": [
       "0       Personal Auto\n",
       "1       Personal Auto\n",
       "2       Personal Auto\n",
       "4       Personal Auto\n",
       "5       Personal Auto\n",
       "            ...      \n",
       "1065    Personal Auto\n",
       "1066    Personal Auto\n",
       "1067    Personal Auto\n",
       "1068    Personal Auto\n",
       "1070    Personal Auto\n",
       "Name: Policy Type, Length: 780, dtype: object"
      ]
     },
     "execution_count": 125,
     "metadata": {},
     "output_type": "execute_result"
    }
   ],
   "source": [
    "# Your code here\n",
    "\n",
    "ci_df_pers = car_insurance_df.loc[car_insurance_df['Policy Type'] == \"Personal Auto\"]\n",
    "ci_df_pers[\"Policy Type\"]"
   ]
  },
  {
   "cell_type": "code",
   "execution_count": 127,
   "id": "dc0dbd5c-2de7-4b1a-aa29-b97266b7a441",
   "metadata": {},
   "outputs": [
    {
     "data": {
      "text/plain": [
       "3       Corporate Auto\n",
       "6       Corporate Auto\n",
       "7       Corporate Auto\n",
       "8       Corporate Auto\n",
       "12      Corporate Auto\n",
       "             ...      \n",
       "1045    Corporate Auto\n",
       "1050    Corporate Auto\n",
       "1052    Corporate Auto\n",
       "1056    Corporate Auto\n",
       "1059    Corporate Auto\n",
       "Name: Policy Type, Length: 234, dtype: object"
      ]
     },
     "execution_count": 127,
     "metadata": {},
     "output_type": "execute_result"
    }
   ],
   "source": [
    "ci_df_corp = car_insurance_df.loc[car_insurance_df['Policy Type'] == \"Corporate Auto\"]\n",
    "ci_df_corp[\"Policy Type\"]"
   ]
  },
  {
   "cell_type": "code",
   "execution_count": 129,
   "id": "7c803b5c-34b4-490b-93bd-4da5f2362350",
   "metadata": {},
   "outputs": [
    {
     "name": "stdout",
     "output_type": "stream",
     "text": [
      "The average income for Personal Auto policy holders is:\n",
      "38180.7\n"
     ]
    }
   ],
   "source": [
    "print(\"The average income for Personal Auto policy holders is:\")\n",
    "print(ci_df_pers[\"Income\"].mean().round(2))"
   ]
  },
  {
   "cell_type": "code",
   "execution_count": 131,
   "id": "77ba00f8-6bef-4894-a28b-15646a78781d",
   "metadata": {},
   "outputs": [
    {
     "name": "stdout",
     "output_type": "stream",
     "text": [
      "The average income for Corporate Auto policy holders is:\n",
      "41390.31\n"
     ]
    }
   ],
   "source": [
    "print(\"The average income for Corporate Auto policy holders is:\")\n",
    "print(ci_df_corp[\"Income\"].mean().round(2))"
   ]
  },
  {
   "cell_type": "code",
   "execution_count": 133,
   "id": "d78a762e-040f-40a9-906c-c0f272a24b9f",
   "metadata": {},
   "outputs": [
    {
     "data": {
      "text/plain": [
       "count     780.00\n",
       "mean    38180.70\n",
       "std     29952.17\n",
       "min         0.00\n",
       "25%     12096.00\n",
       "50%     35211.50\n",
       "75%     62774.00\n",
       "max     99790.00\n",
       "Name: Income, dtype: float64"
      ]
     },
     "execution_count": 133,
     "metadata": {},
     "output_type": "execute_result"
    }
   ],
   "source": [
    "ci_df_pers[\"Income\"].describe()"
   ]
  },
  {
   "cell_type": "code",
   "execution_count": 135,
   "id": "bc9550b1-b0ce-4287-95b9-aa30d63c4462",
   "metadata": {},
   "outputs": [
    {
     "data": {
      "text/plain": [
       "count     234.00\n",
       "mean    41390.31\n",
       "std     31708.87\n",
       "min         0.00\n",
       "25%     16325.50\n",
       "50%     39155.50\n",
       "75%     69843.00\n",
       "max     99960.00\n",
       "Name: Income, dtype: float64"
      ]
     },
     "execution_count": 135,
     "metadata": {},
     "output_type": "execute_result"
    }
   ],
   "source": [
    "ci_df_corp[\"Income\"].describe()"
   ]
  },
  {
   "cell_type": "markdown",
   "id": "a27acac5-a010-4b2e-8b0a-e7797b526829",
   "metadata": {},
   "source": [
    "The average income for both policy types is not very different!"
   ]
  },
  {
   "cell_type": "markdown",
   "id": "80b16c27-f4a5-4727-a229-1f88671cf4e2",
   "metadata": {},
   "source": [
    "### Bonus: Exercise 4\n"
   ]
  },
  {
   "cell_type": "markdown",
   "id": "ac584986-299b-475f-ac2e-928c16c3f512",
   "metadata": {},
   "source": [
    "Your goal is to identify customers with a high policy claim amount.\n",
    "\n",
    "Instructions:\n",
    "\n",
    "- Review again the statistics for total claim amount to gain an understanding of the data.\n",
    "- To identify potential areas for improving customer retention and profitability, we want to focus on customers with a high policy claim amount. Consider customers with a high policy claim amount to be those in the top 25% of the total claim amount. Create a pandas DataFrame object that contains information about customers with a policy claim amount greater than the 75th percentile.\n",
    "- Use DataFrame methods to calculate summary statistics about the high policy claim amount data. "
   ]
  },
  {
   "cell_type": "markdown",
   "id": "4e3af5f1-6023-4b05-9c01-d05392daa650",
   "metadata": {},
   "source": [
    "*Note: When analyzing data, we often want to focus on certain groups of values to gain insights. Percentiles are a useful tool to help us define these groups. A percentile is a measure that tells us what percentage of values in a dataset are below a certain value. For example, the 75th percentile represents the value below which 75% of the data falls. Similarly, the 25th percentile represents the value below which 25% of the data falls. When we talk about the top 25%, we are referring to the values that fall above the 75th percentile, which represent the top quarter of the data. On the other hand, when we talk about the bottom 25%, we are referring to the values that fall below the 25th percentile, which represent the bottom quarter of the data. By focusing on these groups, we can identify patterns and trends that may be useful for making decisions and taking action.*\n",
    "\n",
    "*Hint: look for a method that gives you the percentile or quantile 0.75 and 0.25 for a Pandas Series.*"
   ]
  },
  {
   "cell_type": "markdown",
   "id": "2d234634-50bd-41e0-88f7-d5ba684455d1",
   "metadata": {},
   "source": [
    "*Hint 2: check `Boolean selection according to the values of a single column` in https://towardsdatascience.com/filtering-data-frames-in-pandas-b570b1f834b9*"
   ]
  },
  {
   "cell_type": "code",
   "execution_count": 141,
   "id": "b731bca6-a760-4860-a27b-a33efa712ce0",
   "metadata": {},
   "outputs": [
    {
     "data": {
      "text/plain": [
       "count   1071.00\n",
       "mean     404.99\n",
       "std      293.03\n",
       "min        0.38\n",
       "25%      202.16\n",
       "50%      354.73\n",
       "75%      532.80\n",
       "max     2893.24\n",
       "Name: Total Claim Amount, dtype: float64"
      ]
     },
     "execution_count": 141,
     "metadata": {},
     "output_type": "execute_result"
    }
   ],
   "source": [
    "# Your code here\n",
    "car_insurance_df[\"Total Claim Amount\"].describe()"
   ]
  },
  {
   "cell_type": "code",
   "execution_count": 143,
   "id": "4ddc0ccd-03e9-4716-950a-59b572eac3ab",
   "metadata": {},
   "outputs": [
    {
     "data": {
      "text/html": [
       "<div>\n",
       "<style scoped>\n",
       "    .dataframe tbody tr th:only-of-type {\n",
       "        vertical-align: middle;\n",
       "    }\n",
       "\n",
       "    .dataframe tbody tr th {\n",
       "        vertical-align: top;\n",
       "    }\n",
       "\n",
       "    .dataframe thead th {\n",
       "        text-align: right;\n",
       "    }\n",
       "</style>\n",
       "<table border=\"1\" class=\"dataframe\">\n",
       "  <thead>\n",
       "    <tr style=\"text-align: right;\">\n",
       "      <th></th>\n",
       "      <th>Customer</th>\n",
       "      <th>ST</th>\n",
       "      <th>GENDER</th>\n",
       "      <th>Education</th>\n",
       "      <th>Customer Lifetime Value</th>\n",
       "      <th>Income</th>\n",
       "      <th>Monthly Premium Auto</th>\n",
       "      <th>Number of Open Complaints</th>\n",
       "      <th>Policy Type</th>\n",
       "      <th>Vehicle Class</th>\n",
       "      <th>Total Claim Amount</th>\n",
       "    </tr>\n",
       "  </thead>\n",
       "  <tbody>\n",
       "    <tr>\n",
       "      <th>1</th>\n",
       "      <td>QZ44356</td>\n",
       "      <td>Arizona</td>\n",
       "      <td>F</td>\n",
       "      <td>Bachelor</td>\n",
       "      <td>697953.59%</td>\n",
       "      <td>0.00</td>\n",
       "      <td>94.00</td>\n",
       "      <td>1/0/00</td>\n",
       "      <td>Personal Auto</td>\n",
       "      <td>Four-Door Car</td>\n",
       "      <td>1131.46</td>\n",
       "    </tr>\n",
       "    <tr>\n",
       "      <th>2</th>\n",
       "      <td>AI49188</td>\n",
       "      <td>Nevada</td>\n",
       "      <td>F</td>\n",
       "      <td>Bachelor</td>\n",
       "      <td>1288743.17%</td>\n",
       "      <td>48767.00</td>\n",
       "      <td>108.00</td>\n",
       "      <td>1/0/00</td>\n",
       "      <td>Personal Auto</td>\n",
       "      <td>Two-Door Car</td>\n",
       "      <td>566.47</td>\n",
       "    </tr>\n",
       "    <tr>\n",
       "      <th>17</th>\n",
       "      <td>OE15005</td>\n",
       "      <td>Cali</td>\n",
       "      <td>NaN</td>\n",
       "      <td>College</td>\n",
       "      <td>394524.16%</td>\n",
       "      <td>28855.00</td>\n",
       "      <td>101.00</td>\n",
       "      <td>1/0/00</td>\n",
       "      <td>Personal Auto</td>\n",
       "      <td>SUV</td>\n",
       "      <td>647.44</td>\n",
       "    </tr>\n",
       "    <tr>\n",
       "      <th>23</th>\n",
       "      <td>TZ98966</td>\n",
       "      <td>Nevada</td>\n",
       "      <td>NaN</td>\n",
       "      <td>Bachelor</td>\n",
       "      <td>245019.10%</td>\n",
       "      <td>0.00</td>\n",
       "      <td>73.00</td>\n",
       "      <td>1/3/00</td>\n",
       "      <td>Corporate Auto</td>\n",
       "      <td>Four-Door Car</td>\n",
       "      <td>554.38</td>\n",
       "    </tr>\n",
       "    <tr>\n",
       "      <th>26</th>\n",
       "      <td>US89481</td>\n",
       "      <td>California</td>\n",
       "      <td>NaN</td>\n",
       "      <td>Bachelor</td>\n",
       "      <td>394637.21%</td>\n",
       "      <td>0.00</td>\n",
       "      <td>111.00</td>\n",
       "      <td>1/0/00</td>\n",
       "      <td>Personal Auto</td>\n",
       "      <td>Four-Door Car</td>\n",
       "      <td>799.20</td>\n",
       "    </tr>\n",
       "  </tbody>\n",
       "</table>\n",
       "</div>"
      ],
      "text/plain": [
       "   Customer          ST GENDER Education Customer Lifetime Value   Income  \\\n",
       "1   QZ44356     Arizona      F  Bachelor              697953.59%     0.00   \n",
       "2   AI49188      Nevada      F  Bachelor             1288743.17% 48767.00   \n",
       "17  OE15005        Cali    NaN   College              394524.16% 28855.00   \n",
       "23  TZ98966      Nevada    NaN  Bachelor              245019.10%     0.00   \n",
       "26  US89481  California    NaN  Bachelor              394637.21%     0.00   \n",
       "\n",
       "    Monthly Premium Auto Number of Open Complaints     Policy Type  \\\n",
       "1                  94.00                    1/0/00   Personal Auto   \n",
       "2                 108.00                    1/0/00   Personal Auto   \n",
       "17                101.00                    1/0/00   Personal Auto   \n",
       "23                 73.00                    1/3/00  Corporate Auto   \n",
       "26                111.00                    1/0/00   Personal Auto   \n",
       "\n",
       "    Vehicle Class  Total Claim Amount  \n",
       "1   Four-Door Car             1131.46  \n",
       "2    Two-Door Car              566.47  \n",
       "17            SUV              647.44  \n",
       "23  Four-Door Car              554.38  \n",
       "26  Four-Door Car              799.20  "
      ]
     },
     "execution_count": 143,
     "metadata": {},
     "output_type": "execute_result"
    }
   ],
   "source": [
    "ci_high_claim = car_insurance_df.loc[car_insurance_df['Total Claim Amount'] > 532.80]\n",
    "ci_high_claim.head()"
   ]
  },
  {
   "cell_type": "code",
   "execution_count": 275,
   "id": "eb201158-569b-4ebd-bf40-eb5b0c6ea5bd",
   "metadata": {},
   "outputs": [
    {
     "data": {
      "text/html": [
       "<div>\n",
       "<style scoped>\n",
       "    .dataframe tbody tr th:only-of-type {\n",
       "        vertical-align: middle;\n",
       "    }\n",
       "\n",
       "    .dataframe tbody tr th {\n",
       "        vertical-align: top;\n",
       "    }\n",
       "\n",
       "    .dataframe thead th {\n",
       "        text-align: right;\n",
       "    }\n",
       "</style>\n",
       "<table border=\"1\" class=\"dataframe\">\n",
       "  <thead>\n",
       "    <tr style=\"text-align: right;\">\n",
       "      <th></th>\n",
       "      <th>Income</th>\n",
       "      <th>Monthly Premium Auto</th>\n",
       "      <th>Total Claim Amount</th>\n",
       "    </tr>\n",
       "  </thead>\n",
       "  <tbody>\n",
       "    <tr>\n",
       "      <th>count</th>\n",
       "      <td>264.00</td>\n",
       "      <td>264.00</td>\n",
       "      <td>264.00</td>\n",
       "    </tr>\n",
       "    <tr>\n",
       "      <th>mean</th>\n",
       "      <td>23677.34</td>\n",
       "      <td>165.19</td>\n",
       "      <td>782.23</td>\n",
       "    </tr>\n",
       "    <tr>\n",
       "      <th>std</th>\n",
       "      <td>27013.48</td>\n",
       "      <td>623.93</td>\n",
       "      <td>292.75</td>\n",
       "    </tr>\n",
       "    <tr>\n",
       "      <th>min</th>\n",
       "      <td>0.00</td>\n",
       "      <td>63.00</td>\n",
       "      <td>537.60</td>\n",
       "    </tr>\n",
       "    <tr>\n",
       "      <th>25%</th>\n",
       "      <td>0.00</td>\n",
       "      <td>99.00</td>\n",
       "      <td>606.52</td>\n",
       "    </tr>\n",
       "    <tr>\n",
       "      <th>50%</th>\n",
       "      <td>18807.00</td>\n",
       "      <td>114.00</td>\n",
       "      <td>679.60</td>\n",
       "    </tr>\n",
       "    <tr>\n",
       "      <th>75%</th>\n",
       "      <td>42423.75</td>\n",
       "      <td>133.25</td>\n",
       "      <td>851.40</td>\n",
       "    </tr>\n",
       "    <tr>\n",
       "      <th>max</th>\n",
       "      <td>99316.00</td>\n",
       "      <td>10202.00</td>\n",
       "      <td>2893.24</td>\n",
       "    </tr>\n",
       "  </tbody>\n",
       "</table>\n",
       "</div>"
      ],
      "text/plain": [
       "        Income  Monthly Premium Auto  Total Claim Amount\n",
       "count   264.00                264.00              264.00\n",
       "mean  23677.34                165.19              782.23\n",
       "std   27013.48                623.93              292.75\n",
       "min       0.00                 63.00              537.60\n",
       "25%       0.00                 99.00              606.52\n",
       "50%   18807.00                114.00              679.60\n",
       "75%   42423.75                133.25              851.40\n",
       "max   99316.00              10202.00             2893.24"
      ]
     },
     "execution_count": 275,
     "metadata": {},
     "output_type": "execute_result"
    }
   ],
   "source": [
    "ci_high_claim.describe()"
   ]
  },
  {
   "cell_type": "code",
   "execution_count": 277,
   "id": "a0aa36f4-8ad5-4bb1-9334-4b65ae33feda",
   "metadata": {},
   "outputs": [
    {
     "data": {
      "text/html": [
       "<div>\n",
       "<style scoped>\n",
       "    .dataframe tbody tr th:only-of-type {\n",
       "        vertical-align: middle;\n",
       "    }\n",
       "\n",
       "    .dataframe tbody tr th {\n",
       "        vertical-align: top;\n",
       "    }\n",
       "\n",
       "    .dataframe thead th {\n",
       "        text-align: right;\n",
       "    }\n",
       "</style>\n",
       "<table border=\"1\" class=\"dataframe\">\n",
       "  <thead>\n",
       "    <tr style=\"text-align: right;\">\n",
       "      <th></th>\n",
       "      <th>Income</th>\n",
       "      <th>Monthly Premium Auto</th>\n",
       "      <th>Total Claim Amount</th>\n",
       "    </tr>\n",
       "  </thead>\n",
       "  <tbody>\n",
       "    <tr>\n",
       "      <th>count</th>\n",
       "      <td>1071.00</td>\n",
       "      <td>1071.00</td>\n",
       "      <td>1071.00</td>\n",
       "    </tr>\n",
       "    <tr>\n",
       "      <th>mean</th>\n",
       "      <td>39295.70</td>\n",
       "      <td>193.23</td>\n",
       "      <td>404.99</td>\n",
       "    </tr>\n",
       "    <tr>\n",
       "      <th>std</th>\n",
       "      <td>30469.43</td>\n",
       "      <td>1601.19</td>\n",
       "      <td>293.03</td>\n",
       "    </tr>\n",
       "    <tr>\n",
       "      <th>min</th>\n",
       "      <td>0.00</td>\n",
       "      <td>61.00</td>\n",
       "      <td>0.38</td>\n",
       "    </tr>\n",
       "    <tr>\n",
       "      <th>25%</th>\n",
       "      <td>14072.00</td>\n",
       "      <td>68.00</td>\n",
       "      <td>202.16</td>\n",
       "    </tr>\n",
       "    <tr>\n",
       "      <th>50%</th>\n",
       "      <td>36234.00</td>\n",
       "      <td>83.00</td>\n",
       "      <td>354.73</td>\n",
       "    </tr>\n",
       "    <tr>\n",
       "      <th>75%</th>\n",
       "      <td>64631.00</td>\n",
       "      <td>109.50</td>\n",
       "      <td>532.80</td>\n",
       "    </tr>\n",
       "    <tr>\n",
       "      <th>max</th>\n",
       "      <td>99960.00</td>\n",
       "      <td>35354.00</td>\n",
       "      <td>2893.24</td>\n",
       "    </tr>\n",
       "  </tbody>\n",
       "</table>\n",
       "</div>"
      ],
      "text/plain": [
       "        Income  Monthly Premium Auto  Total Claim Amount\n",
       "count  1071.00               1071.00             1071.00\n",
       "mean  39295.70                193.23              404.99\n",
       "std   30469.43               1601.19              293.03\n",
       "min       0.00                 61.00                0.38\n",
       "25%   14072.00                 68.00              202.16\n",
       "50%   36234.00                 83.00              354.73\n",
       "75%   64631.00                109.50              532.80\n",
       "max   99960.00              35354.00             2893.24"
      ]
     },
     "execution_count": 277,
     "metadata": {},
     "output_type": "execute_result"
    }
   ],
   "source": [
    "car_insurance_df.describe()"
   ]
  },
  {
   "cell_type": "code",
   "execution_count": 151,
   "id": "bb5d2159-3a85-40fd-850c-d6da513687cf",
   "metadata": {},
   "outputs": [
    {
     "data": {
      "text/plain": [
       "532.8"
      ]
     },
     "execution_count": 151,
     "metadata": {},
     "output_type": "execute_result"
    }
   ],
   "source": [
    "ci_high_claimq75 = car_insurance_df[\"Total Claim Amount\"].quantile(0.75)\n",
    "ci_high_claimq75"
   ]
  },
  {
   "cell_type": "code",
   "execution_count": null,
   "id": "efcb9037-e860-48f2-ab8b-d5f60aa504fe",
   "metadata": {},
   "outputs": [],
   "source": []
  }
 ],
 "metadata": {
  "kernelspec": {
   "display_name": "Python 3 (ipykernel)",
   "language": "python",
   "name": "python3"
  },
  "language_info": {
   "codemirror_mode": {
    "name": "ipython",
    "version": 3
   },
   "file_extension": ".py",
   "mimetype": "text/x-python",
   "name": "python",
   "nbconvert_exporter": "python",
   "pygments_lexer": "ipython3",
   "version": "3.12.4"
  }
 },
 "nbformat": 4,
 "nbformat_minor": 5
}
